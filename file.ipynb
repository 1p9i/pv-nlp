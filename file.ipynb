{
 "cells": [
  {
   "cell_type": "code",
   "execution_count": 2,
   "metadata": {
    "collapsed": true,
    "ExecuteTime": {
     "start_time": "2023-09-18T09:58:01.519287Z",
     "end_time": "2023-09-18T09:58:09.157152Z"
    }
   },
   "outputs": [],
   "source": [
    "import json\n",
    "from datasets import load_dataset\n",
    "dataset = load_dataset(\"ade_corpus_v2\", \"Ade_corpus_v2_drug_ade_relation\")\n",
    "json_dataset = []\n",
    "for row in dataset[\"train\"]:\n",
    "    try:\n",
    "        effect_dict = row[\"indexes\"][\"effect\"]\n",
    "        item = {\n",
    "            \"text\": row[\"text\"],\n",
    "            \"annotations\": [\n",
    "                {\"start\": effect_dict[\"start_char\"][0], \"end\": effect_dict[\"end_char\"][0], \"label\": \"SIDE_EFFECT\"}\n",
    "            ],\n",
    "        }\n",
    "        json_dataset.append(item)\n",
    "    except:\n",
    "        pass\n",
    "with open(\"ner_dataset.json\", \"w\") as json_file:\n",
    "    json.dump({\"examples\":json_dataset}, json_file, indent=4)\n"
   ]
  }
 ],
 "metadata": {
  "kernelspec": {
   "display_name": "Python 3",
   "language": "python",
   "name": "python3"
  },
  "language_info": {
   "codemirror_mode": {
    "name": "ipython",
    "version": 2
   },
   "file_extension": ".py",
   "mimetype": "text/x-python",
   "name": "python",
   "nbconvert_exporter": "python",
   "pygments_lexer": "ipython2",
   "version": "2.7.6"
  }
 },
 "nbformat": 4,
 "nbformat_minor": 0
}
